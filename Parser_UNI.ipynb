{
 "cells": [
  {
   "cell_type": "code",
   "execution_count": 1,
   "id": "b21c2257",
   "metadata": {},
   "outputs": [
    {
     "data": {
      "application/vnd.jupyter.widget-view+json": {
       "model_id": "7e1372b3ea8e4fd785d854985df68b2b",
       "version_major": 2,
       "version_minor": 0
      },
      "text/plain": [
       "  0%|          | 0/1 [00:00<?, ?it/s]"
      ]
     },
     "metadata": {},
     "output_type": "display_data"
    },
    {
     "data": {
      "application/vnd.jupyter.widget-view+json": {
       "model_id": "2f7b3265da5a4bc79b4d672ffd7e6946",
       "version_major": 2,
       "version_minor": 0
      },
      "text/plain": [
       "  0%|          | 0/148 [00:00<?, ?it/s]"
      ]
     },
     "metadata": {},
     "output_type": "display_data"
    },
    {
     "data": {
      "application/vnd.jupyter.widget-view+json": {
       "model_id": "da61ee90c97b4764bf3e643c1651e4bf",
       "version_major": 2,
       "version_minor": 0
      },
      "text/plain": [
       "  0%|          | 0/1 [00:00<?, ?it/s]"
      ]
     },
     "metadata": {},
     "output_type": "display_data"
    },
    {
     "data": {
      "application/vnd.jupyter.widget-view+json": {
       "model_id": "b849c57cb50e44d199274c62d5b59f1e",
       "version_major": 2,
       "version_minor": 0
      },
      "text/plain": [
       "  0%|          | 0/14718 [00:00<?, ?it/s]"
      ]
     },
     "metadata": {},
     "output_type": "display_data"
    }
   ],
   "source": [
    "import requests \n",
    "from tqdm.notebook import tqdm \n",
    "import pandas as pd \n",
    "from datetime import datetime\n",
    "import time\n",
    "\n",
    "domains = {'ВШЭ_поступление' : 'ba_hse'}\n",
    "\n",
    "url = 'https://api.vk.com/method/wall.get'\n",
    "parts = {'access_token' : '14b9832d14b9832d14b9832df417a88e13114b914b9832d77f0fdce20fff72a4efb5a9b',\n",
    "         'v' : '5.131',\n",
    "         'count' : 100,\n",
    "         'offset' : 0}\n",
    "\n",
    "ids = []\n",
    "posts = [] \n",
    "likes = [] \n",
    "dates = [] \n",
    "comments = []\n",
    "views = []\n",
    "photos = []\n",
    "\n",
    "for k,v in tqdm(domains.items()):\n",
    "    parts['domain'] = v\n",
    "    inf_wall = requests.get(url, params = parts).json()\n",
    "    quantity_of_posts = inf_wall['response']['count']\n",
    "    for i in tqdm(range(0, quantity_of_posts // 100 + 1)):\n",
    "        time.sleep(0.5)\n",
    "        inf_wall = requests.get(url, params = parts).json()\n",
    "        for x in inf_wall['response']['items']:\n",
    "            ids.append(x['id'])\n",
    "            posts.append(x['text']) \n",
    "            dates.append(datetime.utcfromtimestamp(x['date']).strftime('%Y-%m-%d %H:%M:%S')) \n",
    "            likes.append(x['likes']['count']) \n",
    "            comments.append(x['comments']['count'])\n",
    "            if 'views' in x:\n",
    "                views.append(x['views']['count'])\n",
    "            else:\n",
    "                views.append('-----')\n",
    "            try:\n",
    "                if x['attachments'][0]['type'] == 'photo':\n",
    "                    max_width = x['attachments'][0]['photo']['sizes'][0]['width']\n",
    "                    index = 0\n",
    "                    index_1 = 0\n",
    "                    for y in x['attachments'][0]['photo']['sizes']:\n",
    "                        if y['width'] >= max_width:\n",
    "                            max_width = y['width']\n",
    "                            index_1 = index\n",
    "                        else:\n",
    "                            continue\n",
    "                        index += 1\n",
    "                    photos.append(x['attachments'][0]['photo']['sizes'][index_1]['url'])\n",
    "                elif x['attachments'][0]['type'] == 'video':\n",
    "                    max_width = x['attachments'][0]['video']['image'][0]['width']\n",
    "                    index = 0\n",
    "                    index_1 = 0\n",
    "                    for y in x['attachments'][0]['video']['image']:\n",
    "                        if y['width'] >= max_width:\n",
    "                            max_width = y['width']\n",
    "                            index_1 = index\n",
    "                        else:\n",
    "                            continue\n",
    "                        index += 1\n",
    "                    photos.append(x['attachments'][0]['video']['image'][index_1]['url'])\n",
    "                else:\n",
    "                    photos.append('-----')\n",
    "            except:\n",
    "                photos.append('-----')\n",
    "\n",
    "        parts['offset'] += 100 \n",
    "    full_list = list(zip(ids, posts, dates, likes, comments, views, photos))\n",
    "    df = pd.DataFrame(full_list, columns = ['id_поста', 'Текст_поста', \n",
    "                                            'Дата_публикации_поста', \n",
    "                                            'Число_лайков', \n",
    "                                            'Число_комментариев', \n",
    "                                            'Число_просмотров',\n",
    "                                            'URL_photo'])\n",
    "    df.to_excel(f'{k}_all_posts_31_07_2023.xlsx')\n",
    "    ids = []\n",
    "    posts = [] \n",
    "    likes = [] \n",
    "    dates = [] \n",
    "    comments = []\n",
    "    views = []\n",
    "    photos = []\n",
    "           \n",
    "owner_ids = {'ВШЭ_поступление' : -13515656}\n",
    "comments_text = []\n",
    "\n",
    "url = 'https://api.vk.com/method/wall.getComments'\n",
    "parts = {'access_token' : '14b9832d14b9832d14b9832df417a88e13114b914b9832d77f0fdce20fff72a4efb5a9b',\n",
    "         'v' : '5.131',\n",
    "         'count' : 100,\n",
    "         'offset' : 0}\n",
    "\n",
    "for k,v in tqdm(owner_ids.items()):\n",
    "    parts['owner_id'] = v\n",
    "    df = pd.read_excel(f'{k}_all_posts_31_07_2023.xlsx')\n",
    "    for x in tqdm(df['id_поста']):\n",
    "        time.sleep(0.5)\n",
    "        parts['post_id'] = x\n",
    "        inf_wall = requests.get(url, params = parts).json()\n",
    "        quantity_of_posts = inf_wall['response']['count']\n",
    "        text_of_comments = []\n",
    "        for i in range(0, quantity_of_posts // 100 + 1):\n",
    "            inf_wall = requests.get(url, params = parts).json()\n",
    "            time.sleep(0.75)\n",
    "            for z in inf_wall['response']['items']:\n",
    "                text_of_comments.append(z['text'])\n",
    "            parts['offset'] += 100\n",
    "        comments_text.append(text_of_comments)\n",
    "        parts['offset'] = 0\n",
    "    df['Текст_комментариев'] = comments_text\n",
    "    df.to_excel(f'{k}_all_posts_31_07_2023.xlsx')"
   ]
  },
  {
   "cell_type": "code",
   "execution_count": null,
   "id": "4d1044e0",
   "metadata": {},
   "outputs": [],
   "source": [
    "domains = {'Политех_основная' : 'polytech_petra', \n",
    "           'Политех_мемы' : 'peterthergreatmemes',\n",
    "           'Политех_подслушано' : 'politehpiter',\n",
    "           'Политех_поступление' : 'abit_spbstu',\n",
    "           'ИТМО_основная' : 'itmoru',\n",
    "           'ИТМО_мемы' : 'itmem',\n",
    "           'ИТМО_подслушано' : 'overhearitmo',\n",
    "           'ИТМО_поступление' : 'abit.itmo',\n",
    "           'ВШЭ_основная' : 'hse',\n",
    "           'ВШЭ_мемы' : 'hsemem',\n",
    "           'ВШЭ_подслушано' : 'hse_overheard',\n",
    "           'ВШЭ_поступление' : 'ba_hse',\n",
    "           'Мечникова_основная' : 'szgmu_university',\n",
    "           'Мечникова_мемы' : 'profkomszgmu',\n",
    "           'Мечникова_подслушано' : 'overhearnwsmu',\n",
    "           'Герцена_основная' : 'uniherzen',\n",
    "           'Герцена_подслушано' : 'herzen_sluh',\n",
    "           'Герцена_поступление' : 'postuplenie_v_vuz'}\n",
    "\n",
    "owner_ids = {'Политех_основная' : -61195360, \n",
    "             'Политех_мемы' : -153165581,\n",
    "             'Политех_подслушано' : -170022924,\n",
    "             'Политех_поступление' : -121255855,\n",
    "             'ИТМО_основная' : -94,\n",
    "             'ИТМО_мемы' : -127149194,\n",
    "             'ИТМО_подслушано' : -58939492,\n",
    "             'ИТМО_поступление' : -45660640,\n",
    "             'ВШЭ_основная' : -25205856,\n",
    "             'ВШЭ_мемы' : -139105204,\n",
    "             'ВШЭ_подслушано' : -57354358,\n",
    "             'ВШЭ_поступление' : -13515656,\n",
    "             'Мечникова_основная' : -211765678,\n",
    "             'Мечникова_мемы' : -29829801,\n",
    "             'Мечникова_подслушано' : -58600203,\n",
    "             'Герцена_основная' : -46508610,\n",
    "             'Герцена_подслушано' : -58426858,\n",
    "             'Герцена_поступление' : -11478843}"
   ]
  }
 ],
 "metadata": {
  "kernelspec": {
   "display_name": "Python 3 (ipykernel)",
   "language": "python",
   "name": "python3"
  },
  "language_info": {
   "codemirror_mode": {
    "name": "ipython",
    "version": 3
   },
   "file_extension": ".py",
   "mimetype": "text/x-python",
   "name": "python",
   "nbconvert_exporter": "python",
   "pygments_lexer": "ipython3",
   "version": "3.11.3"
  }
 },
 "nbformat": 4,
 "nbformat_minor": 5
}
