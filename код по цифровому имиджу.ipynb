{
 "cells": [
  {
   "cell_type": "markdown",
   "metadata": {},
   "source": [
    "# Входные параметры для анализа"
   ]
  },
  {
   "cell_type": "code",
   "execution_count": 1,
   "metadata": {},
   "outputs": [],
   "source": [
    "main_company_ = 'Delivery Club'\n",
    "\n",
    "#названия и домены групп информационных компонент в VK\n",
    "inf_comp_domains_ = {\"Экология\": \"greenpeace_ru\", \"Социальный прогресс\": \"wonderzine\", \"Экономическое развитие\": \"rueconomics\", \"Инновационность\": 'forinnovations', \"Присутствие бренда работодателя\": \"futuretoday\", \"Интеграция\": \"gov\"}\n",
    "\n",
    "#названия и домены групп компаний в VK\n",
    "companies_domains_ = {'Почта России': \"russianpost\",\n",
    "                        \"DHL\": \"dhlclub\",\n",
    "                        \"СДЭК\": \"cdek_express\",\n",
    "                        \"ПЭК\": 'pecom',\n",
    "                        \"OZON\": 'ozon',\n",
    "                        \"AliExpress\": \"aliexpress\",\n",
    "                        \"DPD\": \"dpdru\",\n",
    "                        \"Boxberry\": \"boxberry_ru\",\n",
    "                        \"Деловые Линии\": \"dellin_ru\",\n",
    "                        \"Delivery Club\": \"deliveryclub\",\n",
    "                        \"Яндекс.Еда\": \"eda.yandex\",\n",
    "                        \"РЖД Логистика\": \"rzdlogistics\",\n",
    "                        \"FM Logistic\": \"fmlogistic_russia\"\n",
    "                       }\n",
    "\n",
    "\n",
    "#токены для анализа (в списках) на частотность появления в комментариях\n",
    "# на существительные - сущ, на прил - прил, на глаголы - глаголы, прич и деепприч, на наречия - наречия\n",
    "# опоздать, медленно, задержка, долго, поздно\n",
    "find_lexemes_ = {\n",
    "    'опоздать': ['опоздание', 'поздняя', \"опоздал\", \"поздно\", \"опоздавший\", \"опоздав\"],\n",
    "    'медленно': [\"медлишь\", \"медленно\", \"медленный\", \"замедляя\", \"замедливший\", \"медлительность\"],\n",
    "    'задержка': [\"задержались\", \"задерживаешься\", \"задержанный\", \"задержавшись\", \"задержек\"],\n",
    "    'долго': [\"долго\", \"долгий\"]\n",
    "}"
   ]
  },
  {
   "cell_type": "code",
   "execution_count": 2,
   "metadata": {},
   "outputs": [],
   "source": [
    "# модуль интеграции сбора и анализа данных\n",
    "\n",
    "def complete_analysis(main_company, inf_comp_domains, companies_domains, find_lexemes):\n",
    "    \n",
    "    #сбор данных\n",
    "    inf_comp_tokens = sbor_zapisei_vk(inf_comp_domains)\n",
    "\n",
    "    test = sbor_zapisei_vk(companies_domains)\n",
    "    test_text = test[0]\n",
    "    test_posts_id = test[1]\n",
    "    test_date = test[2]\n",
    "    test_comp_id = test[3]\n",
    "\n",
    "    \n",
    "    #анализ данных\n",
    "    test_prepr_texts, tokens_len = preprocess_text_in_dict(test_text) #длину токенов можно вывести на экран\n",
    "    test_prepr_inf_comps = preprocess_text_in_dict(inf_comp_tokens[0])[0]\n",
    "\n",
    "    unique_index_results, X_matrix = unique_index(test_prepr_texts) #можно вывести на экран\n",
    "\n",
    "    test_inf_com_app = inf_comp_appearance(test_prepr_texts, test_prepr_inf_comps) #можно вывести на экран\n",
    "\n",
    "    test_comms = sbor_kommentov_vk(test_comp_id, test_posts_id, test_date)\n",
    "    test_prepr_comms, tokens_comms_len = preprocess_text_in_dict(test_comms)\n",
    "\n",
    "    test_find_lexemes_analyzer = find_lexemes_analyzer(find_lexemes, test_comms, tokens_comms_len) #можно вывести на экран\n",
    "\n",
    "    test_sentiment = comments_sentiment(test_comms) #можно вывести на экран\n",
    "\n",
    "    #код для статистики чтоб показать бигдату\n",
    "    token_compont_len_dict = {}\n",
    "\n",
    "    for key in test_prepr_inf_comps.keys():\n",
    "        token_component_len = 0\n",
    "        for texts in test_prepr_inf_comps[key]:\n",
    "            token_component_len += len(texts.split(' '))\n",
    "        token_compont_len_dict[key] = token_component_len\n",
    "\n",
    "    print(\"Количество собранных токенов информационных компонент:\")\n",
    "    for i_comp_, ic_token in token_compont_len_dict.items():\n",
    "        print('\\t{}: {} токенов'.format(i_comp_, ic_token))\n",
    "    print(\"Собрано записей в группах компаний в VK: {}\".format(sum([len(test_text[x]) for x in test_text.keys()])))\n",
    "    print(\"Собрано комментариев в группах компаний в VK: {}\".format(sum([len(test_comms[x]) for x in test_comms.keys()])))\n",
    "    \n",
    "    return {'tokens_len': tokens_len,\n",
    "           'unique_index_results': unique_index_results,\n",
    "           'X_matrix': X_matrix,\n",
    "           'test_inf_com_app': test_inf_com_app,\n",
    "           'test_find_lexemes_analyzer': test_find_lexemes_analyzer,\n",
    "           'test_sentiment': test_sentiment}"
   ]
  },
  {
   "cell_type": "code",
   "execution_count": 4,
   "metadata": {},
   "outputs": [
    {
     "name": "stdout",
     "output_type": "stream",
     "text": [
      "Собраны посты по компании или компоненте Экология\n",
      "Собраны посты по компании или компоненте Социальный прогресс\n",
      "Собраны посты по компании или компоненте Экономическое развитие\n",
      "Собраны посты по компании или компоненте Инновационность\n",
      "Собраны посты по компании или компоненте Присутствие бренда работодателя\n",
      "Собраны посты по компании или компоненте Интеграция\n",
      "Собраны посты по компании или компоненте Почта России\n",
      "Собраны посты по компании или компоненте DHL\n",
      "Собраны посты по компании или компоненте СДЭК\n",
      "Собраны посты по компании или компоненте ПЭК\n",
      "Собраны посты по компании или компоненте OZON\n",
      "Собраны посты по компании или компоненте AliExpress\n",
      "Собраны посты по компании или компоненте DPD\n",
      "Собраны посты по компании или компоненте Boxberry\n",
      "Собраны посты по компании или компоненте Деловые Линии\n",
      "Собраны посты по компании или компоненте Delivery Club\n",
      "Собраны посты по компании или компоненте Яндекс.Еда\n",
      "Собраны посты по компании или компоненте РЖД Логистика\n",
      "Собраны посты по компании или компоненте FM Logistic\n"
     ]
    },
    {
     "name": "stderr",
     "output_type": "stream",
     "text": [
      "\n"
     ]
    },
    {
     "name": "stdout",
     "output_type": "stream",
     "text": [
      "Количество собранных токенов информационных компонент:\n",
      "\tЭкология: 76014 токенов\n",
      "\tСоциальный прогресс: 74621 токенов\n",
      "\tЭкономическое развитие: 416132 токенов\n",
      "\tИнновационность: 25512 токенов\n",
      "\tПрисутствие бренда работодателя: 35412 токенов\n",
      "\tИнтеграция: 78992 токенов\n",
      "Собрано записей в группах компаний в VK: 3143\n",
      "Собрано комментариев в группах компаний в VK: 27481\n"
     ]
    },
    {
     "data": {
      "text/plain": [
       "{'tokens_len': {'Почта России': 6171,\n",
       "  'DHL': 8054,\n",
       "  'СДЭК': 21163,\n",
       "  'ПЭК': 14544,\n",
       "  'OZON': 15353,\n",
       "  'AliExpress': 11344,\n",
       "  'DPD': 6093,\n",
       "  'Boxberry': 13789,\n",
       "  'Деловые Линии': 19277,\n",
       "  'Delivery Club': 5756,\n",
       "  'Яндекс.Еда': 873,\n",
       "  'РЖД Логистика': 1886,\n",
       "  'FM Logistic': 478},\n",
       " 'unique_index_results': {'Почта России': 0.5479097341243978,\n",
       "  'DHL': 0.4882539961466424,\n",
       "  'СДЭК': 0.515739698389898,\n",
       "  'ПЭК': 0.6613008978321133,\n",
       "  'OZON': 0.6684267338381457,\n",
       "  'AliExpress': 0.5791846283561035,\n",
       "  'DPD': 0.5020386801819446,\n",
       "  'Boxberry': 0.48448168763745564,\n",
       "  'Деловые Линии': 0.5885777841308776,\n",
       "  'Delivery Club': 0.5227722220195855,\n",
       "  'Яндекс.Еда': 0.6793278588925967,\n",
       "  'РЖД Логистика': 0.6308002177531361,\n",
       "  'FM Logistic': 0.7382405375589078},\n",
       " 'X_matrix': array([[0, 0, 0, ..., 0, 0, 0],\n",
       "        [0, 0, 0, ..., 0, 0, 0],\n",
       "        [0, 2, 0, ..., 0, 0, 0],\n",
       "        ...,\n",
       "        [0, 0, 0, ..., 0, 0, 0],\n",
       "        [0, 0, 0, ..., 0, 0, 0],\n",
       "        [0, 0, 0, ..., 0, 0, 0]], dtype=int64),\n",
       " 'test_inf_com_app': {'Экология': {'Почта России': 0.529704681078613,\n",
       "   'DHL': 0.3852726549508395,\n",
       "   'СДЭК': 0.6084592863061775,\n",
       "   'ПЭК': 0.715594722074447,\n",
       "   'OZON': 0.6288136174268097,\n",
       "   'AliExpress': 0.5727869308854971,\n",
       "   'DPD': 0.6255061773881245,\n",
       "   'Boxberry': 0.5633435114112244,\n",
       "   'Деловые Линии': 0.6765819644594306,\n",
       "   'Delivery Club': 0.508552426897632,\n",
       "   'Яндекс.Еда': 0.676281593868205,\n",
       "   'РЖД Логистика': 0.49913782366370785,\n",
       "   'FM Logistic': 0.5996140005645625},\n",
       "  'Социальный прогресс': {'Почта России': 0.5439733101687423,\n",
       "   'DHL': 0.4186192774805174,\n",
       "   'СДЭК': 0.6343650010224892,\n",
       "   'ПЭК': 0.7246527992282739,\n",
       "   'OZON': 0.6175491929500068,\n",
       "   'AliExpress': 0.5281236928533095,\n",
       "   'DPD': 0.6625118606339705,\n",
       "   'Boxberry': 0.5562037039076928,\n",
       "   'Деловые Линии': 0.7193810298213958,\n",
       "   'Delivery Club': 0.48921189897011275,\n",
       "   'Яндекс.Еда': 0.6615110700172516,\n",
       "   'РЖД Логистика': 0.5690112676840139,\n",
       "   'FM Logistic': 0.6269457708615613},\n",
       "  'Экономическое развитие': {'Почта России': 0.6312242047995067,\n",
       "   'DHL': 0.4824932004067972,\n",
       "   'СДЭК': 0.6672546143172542,\n",
       "   'ПЭК': 0.757387304224851,\n",
       "   'OZON': 0.743496152368224,\n",
       "   'AliExpress': 0.6274708825617155,\n",
       "   'DPD': 0.6787940326337584,\n",
       "   'Boxberry': 0.6421336151373183,\n",
       "   'Деловые Линии': 0.7300900312679626,\n",
       "   'Delivery Club': 0.6455092760034375,\n",
       "   'Яндекс.Еда': 0.8070828369441161,\n",
       "   'РЖД Логистика': 0.6137911520193096,\n",
       "   'FM Logistic': 0.5886915530255559},\n",
       "  'Инновационность': {'Почта России': 0.6533746964972448,\n",
       "   'DHL': 0.48722011257472364,\n",
       "   'СДЭК': 0.6778455519670075,\n",
       "   'ПЭК': 0.7251330765322628,\n",
       "   'OZON': 0.7182281805962767,\n",
       "   'AliExpress': 0.6573388360558448,\n",
       "   'DPD': 0.6749538958295949,\n",
       "   'Boxberry': 0.6487974361283686,\n",
       "   'Деловые Линии': 0.743204106795863,\n",
       "   'Delivery Club': 0.6514532748784447,\n",
       "   'Яндекс.Еда': 0.7683196580870082,\n",
       "   'РЖД Логистика': 0.5884083316501189,\n",
       "   'FM Logistic': 0.5556825247791872},\n",
       "  'Присутствие бренда работодателя': {'Почта России': 0.6434152807540658,\n",
       "   'DHL': 0.4996103307680523,\n",
       "   'СДЭК': 0.637404838926473,\n",
       "   'ПЭК': 0.7066078647955087,\n",
       "   'OZON': 0.6568509538962191,\n",
       "   'AliExpress': 0.6030215869482697,\n",
       "   'DPD': 0.6500928375402868,\n",
       "   'Boxberry': 0.611622575290087,\n",
       "   'Деловые Линии': 0.7130749639852734,\n",
       "   'Delivery Club': 0.5935379909359485,\n",
       "   'Яндекс.Еда': 0.7514396109458783,\n",
       "   'РЖД Логистика': 0.5961508213185138,\n",
       "   'FM Logistic': 0.4831180417660791},\n",
       "  'Интеграция': {'Почта России': 0.677763289227553,\n",
       "   'DHL': 0.5511265396859457,\n",
       "   'СДЭК': 0.7019984934426131,\n",
       "   'ПЭК': 0.7567671695612002,\n",
       "   'OZON': 0.7521863997874675,\n",
       "   'AliExpress': 0.6725696811015673,\n",
       "   'DPD': 0.7042441942452942,\n",
       "   'Boxberry': 0.6616099953407678,\n",
       "   'Деловые Линии': 0.7287627921501185,\n",
       "   'Delivery Club': 0.6824267728885556,\n",
       "   'Яндекс.Еда': 0.8143991486427902,\n",
       "   'РЖД Логистика': 0.6513672003741291,\n",
       "   'FM Logistic': 0.5727077742854128}},\n",
       " 'test_find_lexemes_analyzer': {'Почта России': 2.591068434689834,\n",
       "  'DHL': 1.6778523489932886,\n",
       "  'СДЭК': 4.470938897168406,\n",
       "  'ПЭК': 3.234750462107209,\n",
       "  'OZON': 1.4363688595231257,\n",
       "  'AliExpress': 1.6011644832605532,\n",
       "  'DPD': 1.0565240359218173,\n",
       "  'Boxberry': 5.067284137051579,\n",
       "  'Деловые Линии': 0.0,\n",
       "  'Delivery Club': 1.3203602697307408,\n",
       "  'Яндекс.Еда': 3.409436834094368,\n",
       "  'РЖД Логистика': 0.0,\n",
       "  'FM Logistic': 0.0},\n",
       " 'test_sentiment': ({'Почта России': 1.5337099747910763,\n",
       "   'DHL': 4.129369440369821,\n",
       "   'СДЭК': 0.3224167972668862,\n",
       "   'ПЭК': 10.076847747991987,\n",
       "   'OZON': 8.155142979919782,\n",
       "   'AliExpress': 6.71116957489749,\n",
       "   'DPD': 0.26278705887338705,\n",
       "   'Boxberry': 0.9588736364322626,\n",
       "   'Деловые Линии': 7.031921626661297,\n",
       "   'Delivery Club': 10.202174286602698,\n",
       "   'Яндекс.Еда': 2.7373483114906403,\n",
       "   'РЖД Логистика': 15.629557319678199,\n",
       "   'FM Logistic': 26.982551233830982},\n",
       "  {'Почта России': 1.3587927849749333,\n",
       "   'DHL': 2.0377855455289335,\n",
       "   'СДЭК': 0.8539402540799866,\n",
       "   'ПЭК': 3.4194442549477917,\n",
       "   'OZON': 4.388060033121438,\n",
       "   'AliExpress': 3.1813353838139915,\n",
       "   'DPD': 2.672334509961312,\n",
       "   'Boxberry': 0.8202155435829749,\n",
       "   'Деловые Линии': 0.15261173067916384,\n",
       "   'Delivery Club': 3.77873248836888,\n",
       "   'Яндекс.Еда': 2.0319455044826,\n",
       "   'РЖД Логистика': 12.564085963573014,\n",
       "   'FM Logistic': 12.897228966664017})}"
      ]
     },
     "execution_count": 4,
     "metadata": {},
     "output_type": "execute_result"
    }
   ],
   "source": [
    "#код для проведения анализа - запускать после того, как запущен послеследующий блокнот\n",
    "comp_anly = complete_analysis(main_company_, inf_comp_domains_, companies_domains_, find_lexemes_)\n",
    "comp_anly"
   ]
  },
  {
   "cell_type": "code",
   "execution_count": 7,
   "metadata": {},
   "outputs": [],
   "source": [
    "#эти данные поступают в блок визуализации\n",
    "tokens_len = comp_anly['tokens_len']\n",
    "unique_index_results = comp_anly['unique_index_results']\n",
    "X_matrix = comp_anly['X_matrix']\n",
    "test_inf_com_app = comp_anly['test_inf_com_app']\n",
    "test_find_lexemes_analyzer = comp_anly['test_find_lexemes_analyzer']\n",
    "test_sentiment = comp_anly['test_sentiment']\n",
    "companies_list = list(companies_domains_.keys())"
   ]
  },
  {
   "cell_type": "markdown",
   "metadata": {},
   "source": [
    "# Блоки сбора и анализа данных"
   ]
  },
  {
   "cell_type": "code",
   "execution_count": 3,
   "metadata": {
    "id": "h3TX1ZdBpjAv"
   },
   "outputs": [
    {
     "name": "stderr",
     "output_type": "stream",
     "text": [
      "[nltk_data] Downloading package stopwords to\n",
      "[nltk_data]     C:\\Users\\A\\AppData\\Roaming\\nltk_data...\n",
      "[nltk_data]   Package stopwords is already up-to-date!\n"
     ]
    }
   ],
   "source": [
    "def sbor_zapisei_vk(comp_domains):    \n",
    "\n",
    "    import requests\n",
    "    import json\n",
    "    import csv\n",
    "    from datetime import datetime, date, time, timezone\n",
    "    from dateutil.relativedelta import relativedelta\n",
    "    import pandas as pd\n",
    "\n",
    "    pd.DataFrame([\"\", \"\"]).to_excel('All posts.xlsx')\n",
    "\n",
    "    url = 'https://api.vk.com/method/wall.get'\n",
    "\n",
    "    #функции для извлечения года, месяца и дня из даты формата unix timestamp\n",
    "    def norm_year(date):\n",
    "        return int(datetime.utcfromtimestamp(date).strftime('%Y'))\n",
    "\n",
    "    def norm_month(date):\n",
    "        return int(datetime.utcfromtimestamp(date).strftime('%m'))\n",
    "\n",
    "    def norm_date(date):\n",
    "        return str(datetime.utcfromtimestamp(date).strftime('%Y-%m-%d'))\n",
    "    \n",
    "    all_posts_text = {} #словарь текстов\n",
    "    all_posts_id = {} #словарь id записей для сбора комментариев\n",
    "    all_posts_date = {} #словарь дат для сбора комментариев\n",
    "    comp_id = {}\n",
    "\n",
    "    for comp in comp_domains:\n",
    "\n",
    "        comp_post_text = []\n",
    "        comp_post_id = []\n",
    "        comp_post_date = []\n",
    "\n",
    "        offset = 0\n",
    "        \n",
    "        today = date.today()\n",
    "        \n",
    "        year_ago = today - relativedelta(years=1)\n",
    "        \n",
    "        dt = datetime.combine(year_ago, time.min)\n",
    "        year_ago_unix = dt.replace(tzinfo=timezone.utc).timestamp()\n",
    "        last_post_date = year_ago_unix + 1\n",
    "        \n",
    "        while last_post_date > year_ago_unix: \n",
    "            inf = requests.get(url, params = {'access_token': 'e9126258e9126258e9126258ede966938aee912e9126258b6a30a2bbaf2c0a42a0efcc6',\n",
    "                                              'v':5.124,\n",
    "                                              'domain':comp_domains[comp],\n",
    "                                              'count':100,\n",
    "                                              'offset':offset\n",
    "                                            }\n",
    "                             )\n",
    "            inf_0 = inf.json()['response']['items']\n",
    "            c_id = inf_0[0]['owner_id']\n",
    "            comp_id.update({comp: c_id})\n",
    "            for post in inf_0:\n",
    "                post_year = norm_year(post['date']) #удалить???\n",
    "                post_month = norm_month(post['date']) #удалить???\n",
    "                \n",
    "                if post['date'] > year_ago_unix:\n",
    "                  comp_post_text.append(post['text'])\n",
    "                  comp_post_id.append(post['id'])\n",
    "                  comp_post_date.append(post['date'])\n",
    "                \n",
    "            last_post = inf_0[-1]\n",
    "            last_post_year = norm_year(last_post['date'])\n",
    "            last_post_date = last_post['date']\n",
    "            offset += 100\n",
    "\n",
    "        #comp_post_id.update({comp: posts_id_2019})\n",
    "        all_posts_text[comp] = comp_post_text\n",
    "        all_posts_id[comp] = comp_post_id\n",
    "        all_posts_date[comp] = comp_post_date\n",
    "\n",
    "        comp_post_df = pd.DataFrame(comp_post_text)\n",
    "\n",
    "        #comp_post_df.to_excel(\"All posts.xlsx\", sheet_name = comp)\n",
    "\n",
    "\n",
    "        #with pd.ExcelWriter(\"All posts.xlsx\", mode = \"a\") as writer:  \n",
    "         # comp_post_df.to_excel(writer, sheet_name=comp)\n",
    "\n",
    "        print('Собраны посты по компании или компоненте ' + comp)\n",
    "    return [all_posts_text, all_posts_id, all_posts_date, comp_id]\n",
    "\n",
    "\n",
    "\n",
    "def sbor_kommentov_vk(comp_id, all_posts_id, all_posts_date):\n",
    "  #from dostoevsky.tokenization import RegexTokenizer\n",
    "  #from dostoevsky.models import FastTextSocialNetworkModel\n",
    "\n",
    "  #tokenizer = RegexTokenizer()\n",
    "  #model = FastTextSocialNetworkModel(tokenizer=tokenizer)\n",
    "\n",
    "  import requests\n",
    "  import json\n",
    "  import csv\n",
    "  from datetime import datetime, date, time, timezone\n",
    "  from dateutil.relativedelta import relativedelta\n",
    "\n",
    "  import pandas as pd\n",
    "\n",
    "  pd.DataFrame([\"\", \"\"]).to_excel('All comms.xlsx')\n",
    "  url = 'https://api.vk.com/method/wall.getComments'\n",
    "\n",
    "  def norm_month(date):\n",
    "        return int(datetime.utcfromtimestamp(date).strftime('%m'))\n",
    "\n",
    "  token_1 = '3c53fd1c3c53fd1c3c53fd1c333c27856933c533c53fd1c63e2a32dfabc9354f8c687ab'\n",
    "  token_2 = 'c698f6bec698f6bec698f6beacc6ec07dccc698c698f6be9929a1afb8f64b7d24c5941f'\n",
    "  token_used = token_1\n",
    "  req_counter = 0\n",
    "\n",
    "  comp_tonality = {}\n",
    "  all_comms = {}\n",
    "\n",
    "  for comp in all_posts_id:\n",
    "      comp_comms = []\n",
    "\n",
    "      date_id = dict(zip(all_posts_date[comp], all_posts_id[comp]))\n",
    "\n",
    "      #отбор id-постов по 10 на каждый месяц\n",
    "\n",
    "      selected_date_id = {}\n",
    "\n",
    "      month = 12\n",
    "      post_counter = 10\n",
    "      for post in all_posts_date[comp]:\n",
    "          if norm_month(post) != month:\n",
    "              month = norm_month(post)\n",
    "              post_counter = 10\n",
    "          if post_counter > 0:\n",
    "              selected_date_id[post] = date_id[post]\n",
    "              post_counter -= 1\n",
    "\n",
    "      for post in selected_date_id.values():\n",
    "              req_counter +=1\n",
    "              if req_counter > 1999:\n",
    "                  token_used = token_2\n",
    "              inf = requests.get(url, params = {'access_token': token_used,\n",
    "                                                'v':5.124,\n",
    "                                                'owner_id': comp_id[comp],\n",
    "                                                'post_id': post,\n",
    "                                                'count':100\n",
    "                                              }\n",
    "                                )\n",
    "              inf_0 = inf.json()['response']['items']\n",
    "              for comm in inf_0:\n",
    "                  if 'text' in comm:\n",
    "                      text_com = comm['text']\n",
    "                      comp_comms.append(text_com)\n",
    "      \n",
    "      all_comms[comp] = comp_comms\n",
    "\n",
    "      comp_comms_df = pd.DataFrame(comp_comms)\n",
    "      #with pd.ExcelWriter(\"All comms.xlsx\", mode = \"a\") as writer:  \n",
    "       #   comp_comms_df.to_excel(writer, sheet_name=comp)\n",
    "  return all_comms\n",
    "\n",
    "\n",
    "\n",
    "#улучшенный токенизатор\n",
    "import re\n",
    "import pymorphy2\n",
    "morph = pymorphy2.MorphAnalyzer()\n",
    "import nltk\n",
    "nltk.download(\"stopwords\")\n",
    "#--------#\n",
    "from string import punctuation\n",
    "\n",
    "from nltk.corpus import stopwords\n",
    "russian_stopwords = stopwords.words(\"russian\")\n",
    "\n",
    "def preprocess_text(text):\n",
    "    words = re.split(r'[^а-яА-Я]', text) # разбиваем текст на слова\n",
    "    tokens = list()\n",
    "    for word in words:\n",
    "        p = morph.parse(word)[0]\n",
    "        if p.tag.POS not in ['NPRO', 'PREP', 'CONJ', 'PRCL', 'INTJ', 'NUMR']:\n",
    "            tokens.append(p.normal_form)\n",
    "    tokens = [token for token in tokens if token not in russian_stopwords\\\n",
    "                and token != \" \" \\\n",
    "                and token.strip() not in punctuation]\n",
    "    company_tokens_text_len = len(tokens)\n",
    "\n",
    "    return \" \".join(tokens), company_tokens_text_len\n",
    "\n",
    "\n",
    "\n",
    "def preprocess_text_in_dict(dict_):\n",
    "    prepr_dict = {}\n",
    "    tokens_len = {}\n",
    "    for company in dict_.keys():\n",
    "        prepr_texts_and_len = [preprocess_text(x) for x in dict_[company]]\n",
    "        prepr_texts = [x[0] for x in prepr_texts_and_len]\n",
    "        len_ = [x[1] for x in prepr_texts_and_len]\n",
    "        prepr_dict[company] = prepr_texts\n",
    "        tokens_len[company] = sum(len_)\n",
    "    return prepr_dict, tokens_len\n",
    "\n",
    "\n",
    "\n",
    "\n",
    "def join_text(dict_):\n",
    "    joined_comms = {}\n",
    "\n",
    "    for comp, comms in dict_.items():\n",
    "      joined = \". \".join(comms)\n",
    "      joined_comms[comp] = joined\n",
    "\n",
    "    return joined_comms\n",
    "\n",
    "\n",
    "\n",
    "\n",
    "def unique_index(dict_):\n",
    "\n",
    "    company_tokens = join_text(dict_)\n",
    "\n",
    "    from sklearn.feature_extraction.text import CountVectorizer\n",
    "    import scipy\n",
    "    import numpy as np\n",
    "\n",
    "    vectorizer = CountVectorizer()\n",
    "\n",
    "    X = vectorizer.fit_transform(company_tokens.values()).toarray()\n",
    "\n",
    "    rasst_list = []\n",
    "\n",
    "    for u in X:\n",
    "        rasst_list_u = []\n",
    "        for v in X:\n",
    "            rasst = scipy.spatial.distance.cosine(u, v)\n",
    "            if rasst != 0:\n",
    "                rasst_list_u.append(rasst)\n",
    "        rasst_list.append(np.mean(rasst_list_u))\n",
    "\n",
    "    image_uniqueness = dict(zip(company_tokens.keys(), rasst_list))\n",
    "\n",
    "  \n",
    "    return image_uniqueness, X\n",
    "\n",
    "\n",
    "\n",
    "def inf_comp_appearance(companies_tokens, component_tokens):\n",
    "\n",
    "    inf_component_tokens = join_text(component_tokens)\n",
    "    company_tokens = join_text(companies_tokens)\n",
    "\n",
    "\n",
    "    from sklearn.feature_extraction.text import CountVectorizer\n",
    "    import scipy\n",
    "    import numpy as np\n",
    "\n",
    "    vectorizer = CountVectorizer()\n",
    "\n",
    "    inf_component_tokens.update(company_tokens)\n",
    "    X = vectorizer.fit_transform(inf_component_tokens.values()).toarray()\n",
    "\n",
    "    rasst_list = []\n",
    "    \n",
    "    for u in X[:len(component_tokens)]:\n",
    "        rasst_comp = []\n",
    "        for v in X[len(component_tokens):]:\n",
    "            rasst = scipy.spatial.distance.cosine(u, v)\n",
    "            rasst_comp.append(rasst)\n",
    "        rasst_companies_dict = dict(zip(companies_tokens.keys(), rasst_comp))\n",
    "        rasst_list.append(rasst_companies_dict)\n",
    "    \n",
    "    rasst_dict = dict(zip(component_tokens.keys(), rasst_list))\n",
    "\n",
    "    return rasst_dict\n",
    "\n",
    "\n",
    "\n",
    "\n",
    "def find_lexemes_analyzer(find_lexemes_dict, test_comms_dict_, tokens_comms_len):\n",
    "    common_lex_list = []\n",
    "\n",
    "    for lists_ in find_lexemes_dict.values():\n",
    "        common_lex_list.extend(lists_)\n",
    "\n",
    "\n",
    "    lexemes_list = []\n",
    "\n",
    "    for word in common_lex_list:\n",
    "        word_lexemes_list = morph.parse(word)[0].lexeme\n",
    "        for lexeme_elem in range(len(word_lexemes_list)):\n",
    "            lexemes_list.append(word_lexemes_list[lexeme_elem][0])\n",
    "\n",
    "    unique_lexemes_list = list(set(lexemes_list))\n",
    "\n",
    "    import re\n",
    "    from collections import Counter\n",
    "\n",
    "    counter_dict = {}\n",
    "    for label in test_comms_dict_.keys():\n",
    "        word_list = []\n",
    "        for line in test_comms_dict_[label]:\n",
    "            line = line.lower()\n",
    "            word_list_line = re.split(r'[^а-яА-Я]', line)\n",
    "            for word in word_list_line:\n",
    "                if word != '':\n",
    "                    word_list.append(word)\n",
    "\n",
    "        c = Counter(word_list)\n",
    "\n",
    "        needed_dict = {}\n",
    "        for k, v in c.items():\n",
    "            if k in unique_lexemes_list:\n",
    "                needed_dict[k] = v\n",
    "\n",
    "        sum_ = sum(needed_dict.values())\n",
    "        freq = sum_ / tokens_comms_len[label] * 1000\n",
    "        counter_dict[label] = freq\n",
    "\n",
    "    return counter_dict\n",
    "\n",
    "\n",
    "\n",
    "def comments_sentiment(comments_dict):\n",
    "    import numpy as np\n",
    "    from dostoevsky.tokenization import RegexTokenizer\n",
    "    from dostoevsky.models import FastTextSocialNetworkModel\n",
    "    from sklearn.preprocessing import StandardScaler\n",
    "\n",
    "    tokenizer = RegexTokenizer()\n",
    "    model = FastTextSocialNetworkModel(tokenizer=tokenizer)\n",
    "    \n",
    "    comp_tonality = []\n",
    "    comp_emotionality = []\n",
    "    \n",
    "    for company, comments in comments_dict.items():\n",
    "        company_tonality = []\n",
    "        company_emotionality = []\n",
    "        for comment in comments:\n",
    "            if comment != '':\n",
    "                stata = model.predict([comment])\n",
    "                tonality = stata[0]['positive'] / stata[0]['negative']\n",
    "                emotionality = (stata[0]['positive'] + stata[0]['negative']) / stata[0]['neutral']\n",
    "                if tonality > 100:\n",
    "                    tonality = 100\n",
    "                if tonality < 0.01:\n",
    "                    tonality = 0.01\n",
    "                if emotionality > 100:\n",
    "                    emotionality = 100\n",
    "                if emotionality < 0.01:\n",
    "                    emotionality = 0.01\n",
    "                company_tonality.append(tonality)\n",
    "                company_emotionality.append(emotionality)\n",
    "        comp_tonality.append(np.mean(company_tonality))\n",
    "        comp_emotionality.append(np.mean(company_emotionality))\n",
    "        \n",
    "    #matrix_for_scaling = np.vstack((np.array(comp_tonality), np.array(comp_emotionality))).T\n",
    "    #scaler = StandardScaler()\n",
    "    #scaled_data = scaler.fit_transform(matrix_for_scaling)\n",
    "    \n",
    "    #scaled_comp_tonality = dict(zip(comments_dict.keys(), scaled_data[:,0]))\n",
    "    #scaled_comp_emotionality = dict(zip(comments_dict.keys(), scaled_data[:,1]))\n",
    "    dict_comp_tonality = dict(zip(comments_dict.keys(), comp_tonality))\n",
    "    dict_comp_emotionality = dict(zip(comments_dict.keys(), comp_emotionality))\n",
    "    \n",
    "    return dict_comp_tonality, dict_comp_emotionality\n",
    "\n",
    "def get_color_map(compa_list):\n",
    "    color_list_ = []\n",
    "    for company_ in compa_list:\n",
    "        if company_ != main_company_:\n",
    "            color_list_.append('b')\n",
    "        else:\n",
    "            color_list_.append('r')\n",
    "    return color_list_"
   ]
  },
  {
   "cell_type": "markdown",
   "metadata": {},
   "source": [
    "# Визуализация"
   ]
  },
  {
   "cell_type": "code",
   "execution_count": 29,
   "metadata": {},
   "outputs": [
    {
     "data": {
      "text/plain": [
       "<matplotlib.legend.Legend at 0x2215095daf0>"
      ]
     },
     "execution_count": 29,
     "metadata": {},
     "output_type": "execute_result"
    },
    {
     "data": {
      "image/png": "[encoded data removed]",
      "text/plain": [
       "<Figure size 432x288 with 1 Axes>"
      ]
     },
     "metadata": {
      "needs_background": "light"
     },
     "output_type": "display_data"
    }
   ],
   "source": [
    "import pandas as pd\n",
    "import numpy as np\n",
    "import matplotlib.pyplot as plt\n",
    "\n",
    "data_comp = pd.DataFrame(test_inf_com_app)\n",
    "\n",
    "stats= data_comp.loc[main_company_]\n",
    "\n",
    "angles=np.linspace(0, 2*np.pi, len(data_comp.columns), endpoint=False)\n",
    "# close the plot\n",
    "stats=np.concatenate((stats,[stats[0]]))\n",
    "angles=np.concatenate((angles,[angles[0]]))\n",
    "\n",
    "konkurenti_mean = data_comp.drop(main_company_).mean(axis = 'index')\n",
    "\n",
    "konkurenti_mean.values\n",
    "\n",
    "konkurenti_mean = np.concatenate((konkurenti_mean.values,[konkurenti_mean[0]]))\n",
    "\n",
    "fig=plt.figure()\n",
    "ax = fig.add_subplot(111, polar=True)\n",
    "ax.plot(angles, 1 - stats, 'o-', linewidth=2)\n",
    "ax.fill(angles, 1 - stats, alpha=0.25)\n",
    "ax.plot(angles,1 - konkurenti_mean,'o-', linewidth=2)\n",
    "ax.fill(angles, 1 - konkurenti_mean, alpha=0.25)\n",
    "test_list = list(data_comp.columns)\n",
    "test_col = list(data_comp.columns)[0]\n",
    "test_list.append(test_col)\n",
    "\n",
    "test_list\n",
    "ax.set_thetagrids(angles * 180/np.pi, test_list)\n",
    "ax.tick_params(pad = 30)\n",
    "ax.set_title('Диаграмма присутствия информационных компонент в цифровом имидже компании\\n')\n",
    "ax.grid(True)\n",
    "#ax.legend(['Почта России', 'КОНКУРЕНТЫ({})'.format(data_comp.drop([\"Почта России\"]).index.values)], loc = 'upper right')\n",
    "ax.legend([main_company_, 'КОНКУРЕНТЫ'], loc = 'upper left')"
   ]
  },
  {
   "cell_type": "code",
   "execution_count": 30,
   "metadata": {},
   "outputs": [
    {
     "data": {
      "text/plain": [
       "[None,\n",
       " None,\n",
       " None,\n",
       " None,\n",
       " None,\n",
       " None,\n",
       " None,\n",
       " None,\n",
       " None,\n",
       " None,\n",
       " None,\n",
       " None,\n",
       " None,\n",
       " None,\n",
       " None,\n",
       " None,\n",
       " None,\n",
       " None,\n",
       " None,\n",
       " None,\n",
       " None,\n",
       " None,\n",
       " None,\n",
       " None,\n",
       " None,\n",
       " None]"
      ]
     },
     "execution_count": 30,
     "metadata": {},
     "output_type": "execute_result"
    },
    {
     "data": {
      "image/png": "[encoded data removed]",
      "text/plain": [
       "<Figure size 1296x720 with 1 Axes>"
      ]
     },
     "metadata": {
      "needs_background": "light"
     },
     "output_type": "display_data"
    }
   ],
   "source": [
    "data_comp['СУММА'] = data_comp.loc[:,['Экология', 'Социальный прогресс',\n",
    "                                    'Экономическое развитие']].sum(axis = 1)\n",
    "\n",
    "data_comp_values = 3 - data_comp['СУММА'].sort_values()\n",
    "\n",
    "fig=plt.figure(figsize = (18,10))\n",
    "ax = fig.add_subplot(222)\n",
    "ax.bar(data_comp_values.index,data_comp_values, color = get_color_map(data_comp_values.index))\n",
    "ax.set_title('Индекс присутствия тематики устойчивого развития')\n",
    "#поворот x-labels на 30 градусов, чтобы они не наезжали друг на друга\n",
    "plt.setp(ax.get_xticklabels(), rotation=30, horizontalalignment='right', fontsize='x-small')"
   ]
  },
  {
   "cell_type": "code",
   "execution_count": 31,
   "metadata": {},
   "outputs": [
    {
     "data": {
      "text/plain": [
       "[None,\n",
       " None,\n",
       " None,\n",
       " None,\n",
       " None,\n",
       " None,\n",
       " None,\n",
       " None,\n",
       " None,\n",
       " None,\n",
       " None,\n",
       " None,\n",
       " None,\n",
       " None,\n",
       " None,\n",
       " None,\n",
       " None,\n",
       " None,\n",
       " None,\n",
       " None,\n",
       " None,\n",
       " None,\n",
       " None,\n",
       " None,\n",
       " None,\n",
       " None]"
      ]
     },
     "execution_count": 31,
     "metadata": {},
     "output_type": "execute_result"
    },
    {
     "data": {
      "image/png": "[encoded data removed]",
      "text/plain": [
       "<Figure size 1008x288 with 2 Axes>"
      ]
     },
     "metadata": {
      "needs_background": "light"
     },
     "output_type": "display_data"
    }
   ],
   "source": [
    "unique = pd.DataFrame({\"image_uniqueness\": unique_index_results, \"token_len\": tokens_len})\n",
    "\n",
    "fig, axes = plt.subplots(ncols=2, figsize=(14,4))\n",
    "unique.sort_values(by=['image_uniqueness'], ascending = False, inplace = True)\n",
    "axes[0].bar(unique.index,unique['image_uniqueness'].values, color = get_color_map(unique.index))\n",
    "unique.sort_values(by=['token_len'], ascending = False, inplace = True)\n",
    "axes[1].bar(unique.index,unique['token_len'].values, color = get_color_map(unique.index))\n",
    "axes[0].set_title('Image uniqueness')\n",
    "axes[1].set_title('len of tokens')\n",
    "plt.setp(axes[0].get_xticklabels(), rotation=30, horizontalalignment='right', fontsize='x-small')\n",
    "plt.setp(axes[1].get_xticklabels(), rotation=30, horizontalalignment='right', fontsize='x-small')"
   ]
  },
  {
   "cell_type": "code",
   "execution_count": 32,
   "metadata": {},
   "outputs": [
    {
     "data": {
      "text/plain": [
       "[None,\n",
       " None,\n",
       " None,\n",
       " None,\n",
       " None,\n",
       " None,\n",
       " None,\n",
       " None,\n",
       " None,\n",
       " None,\n",
       " None,\n",
       " None,\n",
       " None,\n",
       " None,\n",
       " None,\n",
       " None,\n",
       " None,\n",
       " None,\n",
       " None,\n",
       " None,\n",
       " None,\n",
       " None,\n",
       " None,\n",
       " None,\n",
       " None,\n",
       " None]"
      ]
     },
     "execution_count": 32,
     "metadata": {},
     "output_type": "execute_result"
    },
    {
     "data": {
      "image/png": "[encoded data removed]",
      "text/plain": [
       "<Figure size 1008x288 with 2 Axes>"
      ]
     },
     "metadata": {
      "needs_background": "light"
     },
     "output_type": "display_data"
    }
   ],
   "source": [
    "sentiment_df = pd.DataFrame({\"comp_tonality\": test_sentiment[0], \"comp_emotionality\": test_sentiment[1]})\n",
    "\n",
    "fig, axes = plt.subplots(ncols=2, figsize=(14,4))\n",
    "sentiment_df.sort_values(by=['comp_tonality'], ascending = False, inplace = True)\n",
    "axes[0].bar(sentiment_df.index,sentiment_df['comp_tonality'].values, color = get_color_map(sentiment_df.index))\n",
    "sentiment_df.sort_values(by=['comp_emotionality'], ascending = False, inplace = True)\n",
    "axes[1].bar(sentiment_df.index,sentiment_df['comp_emotionality'].values, color = get_color_map(sentiment_df.index))\n",
    "axes[0].set_title('Tonality of comments')\n",
    "axes[1].set_title('Emotionality of comments')\n",
    "plt.setp(axes[0].get_xticklabels(), rotation=30, horizontalalignment='right', fontsize='x-small')\n",
    "plt.setp(axes[1].get_xticklabels(), rotation=30, horizontalalignment='right', fontsize='x-small')"
   ]
  },
  {
   "cell_type": "code",
   "execution_count": 33,
   "metadata": {},
   "outputs": [
    {
     "data": {
      "text/plain": [
       "[None,\n",
       " None,\n",
       " None,\n",
       " None,\n",
       " None,\n",
       " None,\n",
       " None,\n",
       " None,\n",
       " None,\n",
       " None,\n",
       " None,\n",
       " None,\n",
       " None,\n",
       " None,\n",
       " None,\n",
       " None,\n",
       " None,\n",
       " None,\n",
       " None,\n",
       " None,\n",
       " None,\n",
       " None,\n",
       " None,\n",
       " None,\n",
       " None,\n",
       " None]"
      ]
     },
     "execution_count": 33,
     "metadata": {},
     "output_type": "execute_result"
    },
    {
     "data": {
      "image/png": "[encoded data removed]",
      "text/plain": [
       "<Figure size 1296x720 with 1 Axes>"
      ]
     },
     "metadata": {
      "needs_background": "light"
     },
     "output_type": "display_data"
    }
   ],
   "source": [
    "find_lexemes_df = pd.DataFrame({\"find_lexemes\": test_find_lexemes_analyzer})\n",
    "\n",
    "fig=plt.figure(figsize = (18,10))\n",
    "ax = fig.add_subplot(222)\n",
    "\n",
    "find_lexemes_df.sort_values(by=['find_lexemes'], ascending = False, inplace = True)\n",
    "ax.bar(find_lexemes_df.index,find_lexemes_df['find_lexemes'].values, color = get_color_map(find_lexemes_df.index))\n",
    "ax.set_title('Index of lexeme frequency')\n",
    "plt.setp(ax.get_xticklabels(), rotation=30, horizontalalignment='right', fontsize='x-small')"
   ]
  },
  {
   "cell_type": "code",
   "execution_count": 34,
   "metadata": {},
   "outputs": [
    {
     "data": {
      "text/plain": [
       "Text(0.5, 1.0, 'Digital image map')"
      ]
     },
     "execution_count": 34,
     "metadata": {},
     "output_type": "execute_result"
    },
    {
     "data": {
      "image/png": "[encoded data removed]",
      "text/plain": [
       "<Figure size 432x288 with 1 Axes>"
      ]
     },
     "metadata": {
      "needs_background": "light"
     },
     "output_type": "display_data"
    }
   ],
   "source": [
    "#новый visualizer\n",
    "\n",
    "from sklearn.preprocessing import StandardScaler\n",
    "\n",
    "scaler = StandardScaler()\n",
    "scaled_data = scaler.fit_transform(X_matrix)\n",
    "\n",
    "from sklearn.manifold import TSNE\n",
    "tsne_alg = TSNE(random_state = 321)\n",
    "tsne_representation = tsne_alg.fit_transform(scaled_data)\n",
    "y = tsne_representation[:,0]\n",
    "z = tsne_representation[:,1]\n",
    "n = companies_list\n",
    "\n",
    "fig, ax = plt.subplots()\n",
    "ax.scatter(z, y, c = get_color_map(n))\n",
    "\n",
    "for i, txt in enumerate(n):\n",
    "    ax.annotate(txt, (z[i], y[i]))\n",
    "    \n",
    "ax.grid(False)\n",
    "plt.axis('off')\n",
    "plt.title('Digital image map', fontweight=\"bold\")"
   ]
  },
  {
   "cell_type": "markdown",
   "metadata": {
    "id": "XBASfgTgpjA4"
   },
   "source": [
    "# Черновые блокноты:"
   ]
  },
  {
   "cell_type": "code",
   "execution_count": 6,
   "metadata": {},
   "outputs": [
    {
     "name": "stderr",
     "output_type": "stream",
     "text": [
      "[nltk_data] Downloading package stopwords to\n",
      "[nltk_data]     C:\\Users\\A\\AppData\\Roaming\\nltk_data...\n",
      "[nltk_data]   Package stopwords is already up-to-date!\n"
     ]
    }
   ],
   "source": [
    "#старый токенизатор\n",
    "\n",
    "import pymorphy2\n",
    "morph = pymorphy2.MorphAnalyzer()\n",
    "import nltk\n",
    "nltk.download(\"stopwords\")\n",
    "#--------#\n",
    "from string import punctuation\n",
    "\n",
    "from nltk.corpus import stopwords\n",
    "russian_stopwords = stopwords.words(\"russian\")\n",
    "\n",
    "def preprocess_text(text):\n",
    "    words = text.split() # разбиваем текст на слова\n",
    "    tokens = list()\n",
    "    for word in words:\n",
    "        p = morph.parse(word)[0]\n",
    "        tokens.append(p.normal_form)\n",
    "    tokens = [token for token in tokens if token not in russian_stopwords\\\n",
    "                and token != \" \" \\\n",
    "                and token.strip() not in punctuation]\n",
    "    company_tokens_text_len = len(tokens)\n",
    "\n",
    "    return \" \".join(tokens), company_tokens_text_len"
   ]
  },
  {
   "cell_type": "code",
   "execution_count": 89,
   "metadata": {},
   "outputs": [
    {
     "data": {
      "text/plain": [
       "['глобальный экологический проблема решить объединиться весь вместе работать вместе человек наш волонт рами инициативный группа разный некоммерческий организация объединение помощь природоохранный кампания показывать путь решение экологический проблема который обеспечить устойчивый развитие социальный справедливость планета ссылка наш остальной социальный сеть телеграм инстагра поддержать наш работа',\n",
       " 'пока нефть ида северный ледовитый океан россия принимать председательство арктический совет который заниматься защита окружающий среда устойчивый развитие приполярный район накануне сергей лавров заявить россия добиваться выполнение парижский соглашение климат природоохранный инициатива пока наблюдать обратный житель литр вдоль река печора колва сообщать нефтяной площадь нке который спускаться сторона океан подробность гринпискризис',\n",
       " 'белый журавль стерх редкий птица россия стерх гнездиться наш страна стерх моногамный выводить потомство любовь восстанавливать популяция сложный куноватский заказник остаться особый новый законопроект распил заказник мочь навредить ценный территория птица территория собираться добывать нефть рассказыв делать допустить исчезновение стерх гринпислес гринписоопт спасемзаказник',\n",
       " 'период выпускной хотеть напомнить традиция запускать воздушный шар небо должный уйти прошлое почему шарик способный перемещаться большой расстояние оказываться природа тонуть вода оседать берег животное часто принимать еда гибнуть фотография остаток воздушный шаров который прошлое год команда проект ноль отход собрать нижний свирск заповедник берег ладожский озеро шар который запустить петербург ветер унести озеро волна выбросить берег заповедный территория жить дикий животное стометровый участок береговой полоса заповедник время экспедиция собрать фрагмент воздушный шаров отдельный лента колтун который спечься десятка штука порой заповедник настоящее кладбище пластиковый бутылка воздушный шарик вероятность гибель морской птица проглотить кусочек шар возрастать процент сравнение кусок пластик латекс комковаться закупоривать пищеварительный система сравнение кусок тв рдый пластик должный обладать уникальный неповторимый форма встать стык стык блокировать пищеварение латекс легко мочь форма комковаться лента воздушный шаров опасный прочный шарик поэтому запутываться птица животное приводить гибель фольгировать шар сделать основа пластик разлагаться вместе лента мочь блокировть животный привести гибель страдать фауна застревать высоковольтный проводы воздушный шар мочь стать причина короткий замыкание пожар якутск год шарик лента привести короткий замыкание высоковольтный проводы оставить электричество тысяча человек шарик атмосфера праздник одноразовый продукт который обречённый стать мусор легко заменить речь ида декор хороший выбирать бумажный шар гирлянда помпон цвета украшение сделать самостоятельно приобрести специальный магазин главный праздник вс аккуратно сложить убрать хороший врать наш испортиться трудно сдать переработка касаться запуск мусор небо высадить цвета вместе поработать арт проект мочь большой панно мозаика картина книга памятный надпись фотография',\n",
       " 'считать зел ным проект отнести мусоросжигание производство биоразлагать материал атомный энергетика крупный плотинный гидроэлектростанция проект связанный природный газ разбирать стоить доработать критерий зел ный финансирование почему гринпискризис',\n",
       " 'сегодня май год поздравлять всемирный дн метр пчела который отмечаться четыре год подряд пчела опылитель число бабочка летучий мышь колибри позволять воспроизводить растение число продовольственный культура опылитель помогать растениеводство стоять стража возникновение экологический риск сигнализировать проблема здоровье местный экосистема отсутствие подходящий среда обитание пчела мочь привести резкий снижение темп опыление посадка моно культура использование пестицид рост температура связанный изменение климат создавать проблема популяция пчела следствие влиять качество растение который выращивать снижение темп опыление представлять непосредственный угроза питание тенденция сохраниться питательный культура фрукт орех овощной культура весь чаща заменяться рацион человек основный сельскохозяйственный культура рис кукуруза картофель конечный итог привести несбалансированный питание источник оон',\n",
       " 'последствие авария разлив топливо коми сей пора устранить весной граница республика коми ненецкий автономный округа произош литр очередной крупный разлив нефть май радужный площадь нка обнаружить река колва май житель село колва заметить число рный литр далее река воздух стоялый запах нефтепродукт нефтяной пятно двигаться сторона северный ледовитый океан разлив который нести ответственность компания лукойл авария случайный показывать систематический пренебрежение вопрос охрана природа сторона государство бизнес каждый год промышленник продолжать загрязнять арктика нефть выбрасывать атмосфера парниковый газа хрупкий арктика место добыча нефть нефтяной сфера существовать безопасный технология оптимальный способ решение проблема нефтеразлив отказ использование нефть поддержать переход россия зел ные технология рамка зел ный курс подобный катастрофа остаться прошлое подписать петиция гринпискризис',\n",
       " 'год рынок перепродажа вещий россия вырасти разбираться блог почему покупать подержать вещий экономично экологично поделиться комментарий рассказ ваш самый удачный покупка поддержать вещий',\n",
       " 'жестокий дрессировка белуха приморский океанариум владивосток попасть видео очевидец передать видео коалиция свобода косатка белуха наш метр тренер дмитрий бачинский нога кулак избивать взрослый самец белуха сообщать очевидец метод бачинский практиковать регулярно старший тренер океанариум препятствовать дело передать прокуратура случай издевательство животный приморский океанариум гибнуть морж дельфин белуха реальность который происходить кулиса шоу зритель расходиться дом посетитель океанариум дельфинарий видеть зверский издевательство животный знать отлов косатка погибать пытаться спасти сородич вылов называть культурно просветительский стоить культура просвещение бизнес отмирать весь мир депутат госдума светлана бессараб выступить инициатива запретить ловить морской млекопитающее шоу россия правительство хотеть запретить вылов рамка промышленный прибрежный рыболовство упоминать вылов культурно просветительский цель законопроект депутат бессараб особенно нуждаться наш поддержка помочь остановить варварский бизнес подписать петиция законопроект который запретить ловить продавать кит расходный материал видео свобода косатка белуха',\n",
       " 'прибайкальский заказник входить граница объект всемирный наследие озеро байкал постоянно страдать действие человек рассказывать исчезать ценный природный территория сделать е спасти гринпислес гринписоопт спасемзаказник']"
      ]
     },
     "execution_count": 89,
     "metadata": {},
     "output_type": "execute_result"
    }
   ],
   "source": [
    "test_prepr_inf_comps['Экология'][:10]"
   ]
  },
  {
   "cell_type": "code",
   "execution_count": 101,
   "metadata": {},
   "outputs": [
    {
     "data": {
      "text/plain": [
       "['отвечать вопрос прошлое пост рубрика запрещенкаилинуть красный икра отправить герметичный упаковка протечь оформить отправка прямо приложение отдать е отделение очередь забыть распечатать заполнить бланк запрещенкаилинуть',\n",
       " 'бытькакматветь инструкция сделать опись посылка начать оформлять посылка сайт заполнить весь поль форма поставить галочка пункт опись вложение указать ценность посылка нажать оформить следующий страница подробно заполнить дать отправитель получатель заполнить бланк опись получить трек номер распечатать бланк проверить получиться экземпляр закрывать посылка приходить почта наш сотрудник сверить состав отправление бланк поставить печать дата подпись смочь подтвердить получатель конкретно отправить случиться отправление путь компенсировать стоимость предмет указанный бланк опись бытькакматветь',\n",
       " 'ещ месяц назад тысяча человек писать наш сборный футбол новогодний поздравление желать круто выступить евро чемпионат начн тся футболист нужный слово поддержка написать имя письмо переходить ссылка выбирать удобный способ отправка писать текст вс доставить автор хороший пожелание мнение игрок получить приз',\n",
       " 'отвечать вопрос прошлое пост рубрика запрещенкаилинуть рыболовный сеть отправить применять е весь везде надеяться ваш ответственность беречь природа запрещенкаилинуть',\n",
       " 'хотеть отправить оформить посылка сайт приложение почта внести адрес контактный дать отправитель получатель оплатить отправление распечатать бланк наклеить посылка отнести коробка почта сдать е очередь скачать наш приложение хочувсезнать',\n",
       " 'запустить проект почта время великий отечественный война давать поздравить близкие днём победа переходить сайт отправлять бесплатный праздничный открытка сегодня завтра забыть указать адресат свой текст честь май собрать удивительный факт полевой почта знать',\n",
       " 'эфир коробкабесконечность сегодня рассказывать сделать когтеточка остаться картон котейка порадовать окружающий среда лишний мусор избавить ваш пушистый друг балдеть выглядеть необычно наш картинка присылать фотка комментарий коробкабесконечность',\n",
       " 'первое перестать переживать вспомнить индекс дело быстро поправимый способ ввести адрес поисковик отделение сайт почта показать заветный цифра указать адрес заполнять бланк сайт почта индекс определиться автоматически заглянуть мобильный приложение почта сохранять индекс разный название позвонить номер сообщить оператор город улица номер дом загуглита изя хочувсезнать',\n",
       " 'бытькакматветь инструкция отправить посылка курьер мобильный приложение открыть мобильный приложение почта перейти раздел отправка внести весь необходимый дать оплатить отправление карта перейти раздел ещ затем отправка курьер заполнить весь поль форма откуда номер телефон дата время приезд курьер нажать кнопка вызвать курьер наш сотрудник привезти упаковка забер посылка доставка получатель связаться курьер подтверждение время дата доставка называться забер метр ваш посылка доставить е сказать пока смочь потратить время важный пробовать бытькакматветь',\n",
       " 'спонтанно заказать забыть найти сюрприз извещение почтовый ящик нестареющий классика онлайн покупка хотеть получить товар карточка обращать внимание страна мочь отправить большинство товар ехать китай ваш заказ мочь склад европа россия доставить быстрый ставить комментарий понравиться совет советыотать']"
      ]
     },
     "execution_count": 101,
     "metadata": {},
     "output_type": "execute_result"
    }
   ],
   "source": [
    "test_prepr_texts['Почта России'][:10]"
   ]
  },
  {
   "cell_type": "code",
   "execution_count": 14,
   "metadata": {
    "id": "g-qFbFxFIMTZ"
   },
   "outputs": [],
   "source": [
    "#нерабочий код\n",
    "\n",
    "def token_len(companies_tokens):\n",
    "  joined_dict = join_text(companies_tokens)\n",
    "  len_dict = {}\n",
    "  for company, tokens in joined_dict.items():\n",
    "    len_dict[company] = len(tokens)\n",
    "  return len_dict"
   ]
  },
  {
   "cell_type": "code",
   "execution_count": 128,
   "metadata": {},
   "outputs": [
    {
     "name": "stderr",
     "output_type": "stream",
     "text": [
      "[nltk_data] Downloading package stopwords to\n",
      "[nltk_data]     C:\\Users\\A\\AppData\\Roaming\\nltk_data...\n",
      "[nltk_data]   Package stopwords is already up-to-date!\n"
     ]
    }
   ],
   "source": [
    "# нерабочий код, mystem лемматизирует очень медленно\n",
    "\n",
    "\n",
    "import nltk\n",
    "nltk.download(\"stopwords\")\n",
    "\n",
    "from nltk.corpus import stopwords\n",
    "from pymystem3 import Mystem\n",
    "from string import punctuation\n",
    "\n",
    "mystem = Mystem() \n",
    "russian_stopwords = stopwords.words(\"russian\")\n",
    "\n",
    "def preprocess_text(text):\n",
    "    tokens = mystem.lemmatize(text.lower())\n",
    "    tokens = [token for token in tokens if token not in russian_stopwords\\\n",
    "              and token != \" \" \\\n",
    "              and token.strip() not in punctuation]\n",
    "    \n",
    "    text = \" \".join(tokens)\n",
    "    \n",
    "    return text"
   ]
  },
  {
   "cell_type": "code",
   "execution_count": 92,
   "metadata": {},
   "outputs": [
    {
     "data": {
      "text/plain": [
       "'опоздан'"
      ]
     },
     "execution_count": 92,
     "metadata": {},
     "output_type": "execute_result"
    }
   ],
   "source": [
    "#стемминг Портера, походу надо удалить\n",
    "\n",
    "\n",
    "import re\n",
    "\n",
    "class Porter:\n",
    "\tPERFECTIVEGROUND =  re.compile(u\"((ив|ивши|ившись|ыв|ывши|ывшись)|((?<=[ая])(в|вши|вшись)))$\")\n",
    "\tREFLEXIVE = re.compile(u\"(с[яь])$\")\n",
    "\tADJECTIVE = re.compile(u\"(ее|ие|ые|ое|ими|ыми|ей|ий|ый|ой|ем|им|ым|ом|его|ого|ему|ому|их|ых|ую|юю|ая|яя|ою|ею)$\")\n",
    "\tPARTICIPLE = re.compile(u\"((ивш|ывш|ующ)|((?<=[ая])(ем|нн|вш|ющ|щ)))$\")\n",
    "\tVERB = re.compile(u\"((ила|ыла|ена|ейте|уйте|ите|или|ыли|ей|уй|ил|ыл|им|ым|ен|ило|ыло|ено|ят|ует|уют|ит|ыт|ены|ить|ыть|ишь|ую|ю)|((?<=[ая])(ла|на|ете|йте|ли|й|л|ем|н|ло|но|ет|ют|ны|ть|ешь|нно)))$\")\n",
    "\tNOUN = re.compile(u\"(а|ев|ов|ие|ье|е|иями|ями|ами|еи|ии|и|ией|ей|ой|ий|й|иям|ям|ием|ем|ам|ом|о|у|ах|иях|ях|ы|ь|ию|ью|ю|ия|ья|я)$\")\n",
    "\tRVRE = re.compile(u\"^(.*?[аеиоуыэюя])(.*)$\")\n",
    "\tDERIVATIONAL = re.compile(u\".*[^аеиоуыэюя]+[аеиоуыэюя].*ость?$\")\n",
    "\tDER = re.compile(u\"ость?$\")\n",
    "\tSUPERLATIVE = re.compile(u\"(ейше|ейш)$\")\n",
    "\tI = re.compile(u\"и$\")\n",
    "\tP = re.compile(u\"ь$\")\n",
    "\tNN = re.compile(u\"нн$\")\n",
    "\n",
    "\tdef stem(word):\n",
    "\t\tword = word.lower()\n",
    "\t\tword = word.replace(u'ё', u'е')\n",
    "\t\tm = re.match(Porter.RVRE, word)\n",
    "\t\tif m and m.groups():\n",
    "\t\t\tpre = m.group(1)\n",
    "\t\t\trv = m.group(2)\n",
    "\t\t\ttemp = Porter.PERFECTIVEGROUND.sub('', rv, 1)\n",
    "\t\t\tif temp == rv:\n",
    "\t\t\t\trv = Porter.REFLEXIVE.sub('', rv, 1)\n",
    "\t\t\t\ttemp = Porter.ADJECTIVE.sub('', rv, 1)\n",
    "\t\t\t\tif temp != rv:\n",
    "\t\t\t\t\trv = temp\n",
    "\t\t\t\t\trv = Porter.PARTICIPLE.sub('', rv, 1)\n",
    "\t\t\t\telse:\n",
    "\t\t\t\t\ttemp = Porter.VERB.sub('', rv, 1)\n",
    "\t\t\t\t\tif temp == rv:\n",
    "\t\t\t\t\t\trv = Porter.NOUN.sub('', rv, 1)\n",
    "\t\t\t\t\telse:\n",
    "\t\t\t\t\t\trv = temp\n",
    "\t\t\telse:\n",
    "\t\t\t\trv = temp\n",
    "\t\t\t\n",
    "\t\t\trv = Porter.I.sub('', rv, 1)\n",
    "\n",
    "\t\t\tif re.match(Porter.DERIVATIONAL, rv):\n",
    "\t\t\t\trv = Porter.DER.sub('', rv, 1)\n",
    "\n",
    "\t\t\ttemp = Porter.P.sub('', rv, 1)\n",
    "\t\t\tif temp == rv:\n",
    "\t\t\t\trv = Porter.SUPERLATIVE.sub('', rv, 1)\n",
    "\t\t\t\trv = Porter.NN.sub(u'н', rv, 1)\n",
    "\t\t\telse:\n",
    "\t\t\t\trv = temp\n",
    "\t\t\tword = pre+rv\n",
    "\t\treturn word\n",
    "\tstem=staticmethod(stem)\n",
    "\n",
    "\n",
    "    \n",
    "Porter.stem(u'опоздание')"
   ]
  },
  {
   "cell_type": "code",
   "execution_count": 39,
   "metadata": {},
   "outputs": [
    {
     "data": {
      "text/plain": [
       "array([0.58842961, 0.60080061, 0.66522753, 0.65775407, 0.62569305,\n",
       "       0.68679532])"
      ]
     },
     "execution_count": 39,
     "metadata": {},
     "output_type": "execute_result"
    }
   ],
   "source": [
    "# тестовый код, удали потом или передвинь в черновые блокноты\n",
    "\n",
    "import pandas as pd\n",
    "import numpy as np\n",
    "import matplotlib.pyplot as plt\n",
    "\n",
    "data_comp = pd.DataFrame(test_inf_com_app)\n",
    "\n",
    "stats= data_comp.loc['Почта России']\n",
    "\n",
    "angles=np.linspace(0, 2*np.pi, len(data_comp.columns), endpoint=False)\n",
    "# close the plot\n",
    "stats=np.concatenate((stats,[stats[0]]))\n",
    "angles=np.concatenate((angles,[angles[0]]))\n",
    "\n",
    "konkurenti_mean = data_comp.drop(\"Почта России\").mean(axis = 'index')\n",
    "\n",
    "konkurenti_mean.values"
   ]
  },
  {
   "cell_type": "code",
   "execution_count": 51,
   "metadata": {},
   "outputs": [],
   "source": [
    "# визуализация имиджа с t-SNE\n",
    "\n",
    "def vectorize(companies_tokens):\n",
    "    company_tokens = join_text(companies_tokens)\n",
    "\n",
    "    from sklearn.feature_extraction.text import CountVectorizer\n",
    "    import scipy\n",
    "    import numpy as np\n",
    "\n",
    "    vectorizer = CountVectorizer()\n",
    "\n",
    "    X = vectorizer.fit_transform(company_tokens.values())\n",
    "    return X"
   ]
  },
  {
   "cell_type": "code",
   "execution_count": 61,
   "metadata": {},
   "outputs": [
    {
     "name": "stderr",
     "output_type": "stream",
     "text": [
      "*c* argument looks like a single numeric RGB or RGBA sequence, which should be avoided as value-mapping will have precedence in case its length matches with *x* & *y*.  Please use the *color* keyword-argument or provide a 2-D array with a single row if you intend to specify the same RGB or RGBA value for all points.\n",
      "*c* argument looks like a single numeric RGB or RGBA sequence, which should be avoided as value-mapping will have precedence in case its length matches with *x* & *y*.  Please use the *color* keyword-argument or provide a 2-D array with a single row if you intend to specify the same RGB or RGBA value for all points.\n",
      "*c* argument looks like a single numeric RGB or RGBA sequence, which should be avoided as value-mapping will have precedence in case its length matches with *x* & *y*.  Please use the *color* keyword-argument or provide a 2-D array with a single row if you intend to specify the same RGB or RGBA value for all points.\n",
      "*c* argument looks like a single numeric RGB or RGBA sequence, which should be avoided as value-mapping will have precedence in case its length matches with *x* & *y*.  Please use the *color* keyword-argument or provide a 2-D array with a single row if you intend to specify the same RGB or RGBA value for all points.\n",
      "*c* argument looks like a single numeric RGB or RGBA sequence, which should be avoided as value-mapping will have precedence in case its length matches with *x* & *y*.  Please use the *color* keyword-argument or provide a 2-D array with a single row if you intend to specify the same RGB or RGBA value for all points.\n",
      "*c* argument looks like a single numeric RGB or RGBA sequence, which should be avoided as value-mapping will have precedence in case its length matches with *x* & *y*.  Please use the *color* keyword-argument or provide a 2-D array with a single row if you intend to specify the same RGB or RGBA value for all points.\n",
      "*c* argument looks like a single numeric RGB or RGBA sequence, which should be avoided as value-mapping will have precedence in case its length matches with *x* & *y*.  Please use the *color* keyword-argument or provide a 2-D array with a single row if you intend to specify the same RGB or RGBA value for all points.\n",
      "*c* argument looks like a single numeric RGB or RGBA sequence, which should be avoided as value-mapping will have precedence in case its length matches with *x* & *y*.  Please use the *color* keyword-argument or provide a 2-D array with a single row if you intend to specify the same RGB or RGBA value for all points.\n",
      "*c* argument looks like a single numeric RGB or RGBA sequence, which should be avoided as value-mapping will have precedence in case its length matches with *x* & *y*.  Please use the *color* keyword-argument or provide a 2-D array with a single row if you intend to specify the same RGB or RGBA value for all points.\n",
      "*c* argument looks like a single numeric RGB or RGBA sequence, which should be avoided as value-mapping will have precedence in case its length matches with *x* & *y*.  Please use the *color* keyword-argument or provide a 2-D array with a single row if you intend to specify the same RGB or RGBA value for all points.\n",
      "*c* argument looks like a single numeric RGB or RGBA sequence, which should be avoided as value-mapping will have precedence in case its length matches with *x* & *y*.  Please use the *color* keyword-argument or provide a 2-D array with a single row if you intend to specify the same RGB or RGBA value for all points.\n",
      "*c* argument looks like a single numeric RGB or RGBA sequence, which should be avoided as value-mapping will have precedence in case its length matches with *x* & *y*.  Please use the *color* keyword-argument or provide a 2-D array with a single row if you intend to specify the same RGB or RGBA value for all points.\n",
      "*c* argument looks like a single numeric RGB or RGBA sequence, which should be avoided as value-mapping will have precedence in case its length matches with *x* & *y*.  Please use the *color* keyword-argument or provide a 2-D array with a single row if you intend to specify the same RGB or RGBA value for all points.\n"
     ]
    },
    {
     "data": {
      "image/png": "[encoded data removed]",
      "text/plain": [
       "<Figure size 576x396 with 1 Axes>"
      ]
     },
     "metadata": {},
     "output_type": "display_data"
    },
    {
     "data": {
      "text/plain": [
       "<AxesSubplot:title={'center':'TSNE Projection of 13 Documents'}>"
      ]
     },
     "execution_count": 61,
     "metadata": {},
     "output_type": "execute_result"
    }
   ],
   "source": [
    "#старый visualizer\n",
    "\n",
    "from sklearn.feature_extraction.text import TfidfVectorizer\n",
    "\n",
    "from yellowbrick.text import TSNEVisualizer\n",
    "\n",
    "# Load the data and create document vectors\n",
    "corpus = join_text(test_prepr_texts).values()\n",
    "tfidf = TfidfVectorizer()\n",
    "\n",
    "X = tfidf.fit_transform(corpus)\n",
    "\n",
    "# Create the visualizer and draw the vectors\n",
    "tsne = TSNEVisualizer()\n",
    "tsne.fit_transform(X, list(test_prepr_texts.keys()))\n",
    "tsne.show()"
   ]
  },
  {
   "cell_type": "code",
   "execution_count": null,
   "metadata": {
    "colab": {
     "base_uri": "https://localhost:8080/"
    },
    "id": "g072zkkepjA5",
    "outputId": "0e16e8a7-812a-46c6-ff0d-fe79ea873fc1"
   },
   "outputs": [
    {
     "data": {
      "text/plain": [
       "True"
      ]
     },
     "execution_count": 21,
     "metadata": {
      "tags": []
     },
     "output_type": "execute_result"
    }
   ],
   "source": [
    "len(test[1]['DHL']) == len(test[2]['DHL'])"
   ]
  },
  {
   "cell_type": "code",
   "execution_count": null,
   "metadata": {
    "id": "_rNkBEtppjA5"
   },
   "outputs": [],
   "source": [
    "from dateutil.relativedelta import relativedelta\n",
    "from datetime import datetime, date, time\n",
    "today = date.today()\n",
    "        \n",
    "year_ago = today - relativedelta(years=2)"
   ]
  },
  {
   "cell_type": "code",
   "execution_count": null,
   "metadata": {
    "id": "K-JJSuWmpjA6",
    "outputId": "56b80963-91ed-466f-e750-d7f9d484b840"
   },
   "outputs": [
    {
     "name": "stdout",
     "output_type": "stream",
     "text": [
      "1552348800.0\n"
     ]
    }
   ],
   "source": [
    "from datetime import timezone\n",
    "dt = datetime.combine(year_ago, time.min)\n",
    "timestamp = dt.replace(tzinfo=timezone.utc).timestamp()\n",
    "print(timestamp)"
   ]
  },
  {
   "cell_type": "code",
   "execution_count": null,
   "metadata": {
    "id": "qyMZ5STmpjA6",
    "outputId": "07b3e9d7-8f28-4873-b8c3-4e6622d91411"
   },
   "outputs": [
    {
     "data": {
      "text/plain": [
       "datetime.datetime(2021, 3, 12, 0, 0)"
      ]
     },
     "execution_count": 34,
     "metadata": {
      "tags": []
     },
     "output_type": "execute_result"
    }
   ],
   "source": [
    "datetime.combine(today, time.min)"
   ]
  },
  {
   "cell_type": "code",
   "execution_count": null,
   "metadata": {
    "id": "PJUUdS7FpjA6",
    "outputId": "d82babfd-faba-404a-9dec-1b94671aefbe"
   },
   "outputs": [
    {
     "data": {
      "text/plain": [
       "datetime.date(2021, 3, 12)"
      ]
     },
     "execution_count": 27,
     "metadata": {
      "tags": []
     },
     "output_type": "execute_result"
    }
   ],
   "source": [
    "today"
   ]
  },
  {
   "cell_type": "code",
   "execution_count": null,
   "metadata": {
    "id": "QfGkvhMqpjA7"
   },
   "outputs": [],
   "source": [
    "def func(n, p):\n",
    "    print(n+ n**2, p)"
   ]
  },
  {
   "cell_type": "code",
   "execution_count": null,
   "metadata": {
    "id": "hxJq55SZpjA7",
    "outputId": "33c91933-0761-49f6-fac6-982116c7d572"
   },
   "outputs": [
    {
     "name": "stdout",
     "output_type": "stream",
     "text": [
      "12 6\n"
     ]
    }
   ],
   "source": [
    "func(3, 6)"
   ]
  }
 ],
 "metadata": {
  "colab": {
   "collapsed_sections": [],
   "name": "Сбор текстов записей VK.ipynb",
   "provenance": [],
   "toc_visible": true
  },
  "kernelspec": {
   "display_name": "Python 3 (ipykernel)",
   "language": "python",
   "name": "python3"
  },
  "language_info": {
   "codemirror_mode": {
    "name": "ipython",
    "version": 3
   },
   "file_extension": ".py",
   "mimetype": "text/x-python",
   "name": "python",
   "nbconvert_exporter": "python",
   "pygments_lexer": "ipython3",
   "version": "3.8.8"
  }
 },
 "nbformat": 4,
 "nbformat_minor": 4
}
